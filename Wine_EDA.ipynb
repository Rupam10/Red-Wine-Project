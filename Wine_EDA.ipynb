{
  "nbformat": 4,
  "nbformat_minor": 2,
  "metadata": {
    "colab": {
      "name": "Wine_EDA.ipynb",
      "provenance": [],
      "collapsed_sections": []
    },
    "kernelspec": {
      "name": "python3",
      "display_name": "Python 3.8.8 32-bit"
    },
    "language_info": {
      "name": "python",
      "version": "3.8.8",
      "mimetype": "text/x-python",
      "codemirror_mode": {
        "name": "ipython",
        "version": 3
      },
      "pygments_lexer": "ipython3",
      "nbconvert_exporter": "python",
      "file_extension": ".py"
    },
    "interpreter": {
      "hash": "7987c57931f2365761dc2a5f85e647decf73af6edff0c78918b92bfe7c5512ba"
    }
  },
  "cells": [
    {
      "cell_type": "markdown",
      "source": [
        "**About Data Set**"
      ],
      "metadata": {
        "id": "C0b0M16y5UvF"
      }
    },
    {
      "cell_type": "markdown",
      "source": [
        "Input variables:\r\n",
        "\r\n",
        "1. fixed acidity\r\n",
        "2. volatile acidity\r\n",
        "3. citric acid\r\n",
        "4. residual sugar\r\n",
        "5. chlorides\r\n",
        "6. free sulfur dioxide\r\n",
        "7. total sulfur dioxide\r\n",
        "8. density\r\n",
        "9. pH\r\n",
        "10. sulphates\r\n",
        "11. alcohol\r\n",
        "Output variable:\r\n",
        "\r\n",
        "12. quality (score between 0 and 10)\r\n",
        "\r\n",
        "In this module, we'll be performing EDA on Red Wine data, you can then practice the things you learnt on White Wine data.\r\n",
        "\r\n"
      ],
      "metadata": {
        "id": "_r21BpB55ZTR"
      }
    },
    {
      "cell_type": "code",
      "execution_count": null,
      "source": [
        "import numpy as np\r\n",
        "import pandas as pd\r\n",
        "import warnings #ignore warnings\r\n",
        "import pickle\r\n",
        "warnings.filterwarnings('ignore')"
      ],
      "outputs": [],
      "metadata": {
        "id": "aCaKc19adQ7V"
      }
    },
    {
      "cell_type": "code",
      "execution_count": null,
      "source": [
        "red_wine_data = pd.read_csv('https://raw.githubusercontent.com/btkhimsar/DataSets/master/winequality-red.csv',sep=\";\")"
      ],
      "outputs": [],
      "metadata": {
        "id": "xYtEIoORdeWR"
      }
    },
    {
      "cell_type": "markdown",
      "source": [
        "white_wine_data = https://raw.githubusercontent.com/btkhimsar/DataSets/master/winequality-white.csv"
      ],
      "metadata": {
        "id": "ezolZsA2DaBz"
      }
    },
    {
      "cell_type": "markdown",
      "source": [
        "**1. Head**"
      ],
      "metadata": {
        "id": "1KDWM6aOBtUi"
      }
    },
    {
      "cell_type": "markdown",
      "source": [
        "\n",
        "To take a closer look at the data, we take the help of “ .head()” function of pandas library which returns the first five observations of the data set. Similarly, “.tail()” returns last five observations of the data set."
      ],
      "metadata": {
        "id": "ZDCgk_5lhJdK"
      }
    },
    {
      "cell_type": "markdown",
      "source": [
        "You’ll see that this is a great way to get an initial feeling of your data and maybe understand it a bit better already!"
      ],
      "metadata": {
        "id": "PXlxe8-IhUuZ"
      }
    },
    {
      "cell_type": "code",
      "execution_count": null,
      "source": [
        "red_wine_data.head()"
      ],
      "outputs": [],
      "metadata": {
        "id": "fZOe5nUxhYjh",
        "colab": {
          "base_uri": "https://localhost:8080/",
          "height": 204
        },
        "outputId": "a30a8742-6bed-4e37-9705-342b5243db08"
      }
    },
    {
      "cell_type": "markdown",
      "source": [
        "**2. Shape**\n",
        "Find out the total number of rows and columns in the dataset using “.shape”.\n",
        "\n"
      ],
      "metadata": {
        "id": "lchQra_ghi9Z"
      }
    },
    {
      "cell_type": "code",
      "execution_count": null,
      "source": [
        "red_wine_data.shape"
      ],
      "outputs": [],
      "metadata": {
        "id": "0PXtyoobhpjq",
        "colab": {
          "base_uri": "https://localhost:8080/",
          "height": 34
        },
        "outputId": "34bbb54d-5ed8-4077-ab22-a3e66177a262"
      }
    },
    {
      "cell_type": "markdown",
      "source": [
        "**Observations:**\n",
        "* Dataset comprises 1599 observations(rows) and 12 features(columns).\n",
        "* Out of the 12, one is the target variable and rest 11 are input variables.\n",
        "\n",
        "\n",
        "\n"
      ],
      "metadata": {
        "id": "e5rRCxDKhx3S"
      }
    },
    {
      "cell_type": "markdown",
      "source": [
        "**3.  Get a Statistical Overview using Describe**\n"
      ],
      "metadata": {
        "id": "Bqpe56DoiDDB"
      }
    },
    {
      "cell_type": "markdown",
      "source": [
        "The describe() function in pandas is very handy in getting various summary statistics. This function returns the count, mean, standard deviation, minimum and maximum values and the quantiles of the data."
      ],
      "metadata": {
        "id": "LQaUZpwXiWoB"
      }
    },
    {
      "cell_type": "code",
      "execution_count": null,
      "source": [
        "red_wine_data.describe()"
      ],
      "outputs": [],
      "metadata": {
        "id": "noEtU1a8iREM",
        "colab": {
          "base_uri": "https://localhost:8080/",
          "height": 314
        },
        "outputId": "e66fd86f-53d9-4539-9552-1bc055a814d3"
      }
    },
    {
      "cell_type": "markdown",
      "source": [
        "Let's explore different statistical measures that we have got from describe().\n",
        "\n",
        "* **count**: total count of non-null values in the column\n",
        "* **mean**: the average of all the values in that column\n",
        "* **min**: the minimum value in the column\n",
        "* **max**: the maximum value in the column\n",
        "* **25%**: first quartile in the column after we arrange those values in ascending order\n",
        "* **50%**: this is the median or the second quartile\n",
        "* **75%**: the third quartile\n",
        "* **std**: this is the standard deviation (i.e. measure of depreciation, you must have read in the basics of statistics study material)\n",
        "Note: 25%, 50%, and 75% are nothing but corresponding percentile values"
      ],
      "metadata": {
        "id": "B0L5CNGvipOB"
      }
    },
    {
      "cell_type": "markdown",
      "source": [
        "**Observations:**"
      ],
      "metadata": {
        "id": "8O90bDJn6IJf"
      }
    },
    {
      "cell_type": "markdown",
      "source": [
        "* Here as you can notice the mean value is less than the median value of each column. Median is represented by 50%(50th percentile) in the index column.This signifies the presence of Outliers. For example, a data set includes values: 30, 31, 32, and 2. The mean value (23.75), which is lower than the median of the data (30.5), is greatly affected by the extreme data point(2). \n",
        "* There is notably a large difference between 75th %tile and max values of predictors “residual sugar”, ” free sulfur dioxide”, ” total sulfur dioxide”. This indicates that some values of these 3 variables lie much farther from the general range of values( up to 75th %tile) \n",
        "* Thus, the observations 1 and 2 suggest that there are extreme values i.e Outliers in our dataset. "
      ],
      "metadata": {
        "id": "5Sfmg2Qi6Kh3"
      }
    },
    {
      "cell_type": "markdown",
      "source": [
        "**Exploring the Features/Variables**"
      ],
      "metadata": {
        "id": "j1LD0Qmy8Gr3"
      }
    },
    {
      "cell_type": "markdown",
      "source": [
        "Variables and features both are the same, they are often used interchangeably. All the column names in a dataset are variables.\n",
        "\n",
        "Let's explore the features/columns of the datasets."
      ],
      "metadata": {
        "id": "C5vEkOJ58JHA"
      }
    },
    {
      "cell_type": "code",
      "execution_count": null,
      "source": [
        "red_wine_data.columns"
      ],
      "outputs": [],
      "metadata": {
        "id": "sRB00rLe8MsI",
        "colab": {
          "base_uri": "https://localhost:8080/",
          "height": 85
        },
        "outputId": "f00b28d5-3980-4854-97c7-7c46bb80ec5b"
      }
    },
    {
      "cell_type": "markdown",
      "source": [
        "**Target Variable:**"
      ],
      "metadata": {
        "id": "HYJDt5Sa8c9g"
      }
    },
    {
      "cell_type": "markdown",
      "source": [
        "The target variable of a dataset is the feature of a dataset about which you want to gain a deeper understanding. It is the variable that is, or should be the output."
      ],
      "metadata": {
        "id": "0PY6rsj18fpf"
      }
    },
    {
      "cell_type": "markdown",
      "source": [
        "Here **quality** is the target variable as we're trying to know which of the two types of wines have better quality."
      ],
      "metadata": {
        "id": "KaNKDb6b8lW4"
      }
    },
    {
      "cell_type": "markdown",
      "source": [
        "**Input Variables:**"
      ],
      "metadata": {
        "id": "WidG342A8rgn"
      }
    },
    {
      "cell_type": "markdown",
      "source": [
        "One or more variables that are used to determine (or predict) the 'Target Variable' are known as Input Variables. They are sometimes called Predictor Variable as well."
      ],
      "metadata": {
        "id": "0SqXe4tI8wYq"
      }
    },
    {
      "cell_type": "markdown",
      "source": [
        "In our example, the input variables are: 'fixed acidity', 'volatile acidity', 'citric acid', 'residual sugar', 'chlorides', 'free sulfur dioxide', 'total sulfur dioxide', 'density','pH', 'sulphates', and 'alcohol'."
      ],
      "metadata": {
        "id": "ckaZSYvj8zKH"
      }
    },
    {
      "cell_type": "markdown",
      "source": [
        "All of these will help us predict the quality of the wine."
      ],
      "metadata": {
        "id": "_H4IfODz81no"
      }
    },
    {
      "cell_type": "markdown",
      "source": [
        "After loading the data, it is important to examine the data. It is usually not recommended to directly throw all the data into the model without understanding the data. This step always helps in improving our model."
      ],
      "metadata": {
        "id": "B4ANu2sc85D4"
      }
    },
    {
      "cell_type": "markdown",
      "source": [
        "**1. Unique Values of Quality(Target Variable)**"
      ],
      "metadata": {
        "id": "xGeSogTJ88C3"
      }
    },
    {
      "cell_type": "code",
      "execution_count": null,
      "source": [
        "red_wine_data['quality'].unique()"
      ],
      "outputs": [],
      "metadata": {
        "id": "eUdqgIg-9F1g",
        "colab": {
          "base_uri": "https://localhost:8080/",
          "height": 34
        },
        "outputId": "12082dd3-03ab-4856-f9f0-3fa5d00acb77"
      }
    },
    {
      "cell_type": "code",
      "execution_count": null,
      "source": [
        "red_wine_data['quality'].nunique()"
      ],
      "outputs": [],
      "metadata": {
        "id": "PBdY6xxJ9MCm",
        "colab": {
          "base_uri": "https://localhost:8080/",
          "height": 34
        },
        "outputId": "b3d4a311-b4a3-4bec-9724-91989ee77473"
      }
    },
    {
      "cell_type": "markdown",
      "source": [
        "**Observations:**"
      ],
      "metadata": {
        "id": "MGF2R56r9Z9I"
      }
    },
    {
      "cell_type": "markdown",
      "source": [
        "Few key insights just by looking at the target variable are as follows:\n",
        "* Target variable/Dependent variable is discrete and categorical in nature.\n",
        "* “quality” score scale ranges from 1 to 10; 1 being poor and 10 being the best.\n",
        "* 1,2,9 & 10 Quality ratings are not given by any observation. Only scores obtained are between 3 to 8.\n",
        " "
      ],
      "metadata": {
        "id": "ARoSGkIA9a5h"
      }
    },
    {
      "cell_type": "markdown",
      "source": [
        "**2. Frequency Counts of each Quality Value**"
      ],
      "metadata": {
        "id": "tlnv45BA9vix"
      }
    },
    {
      "cell_type": "markdown",
      "source": [
        "value_counts function count the occurrenes of each value in the column."
      ],
      "metadata": {
        "id": "_VOfU6VY9zrR"
      }
    },
    {
      "cell_type": "code",
      "execution_count": null,
      "source": [
        "red_wine_data['quality'].value_counts()"
      ],
      "outputs": [],
      "metadata": {
        "id": "1hq-hrIq-D9g",
        "colab": {
          "base_uri": "https://localhost:8080/",
          "height": 136
        },
        "outputId": "01fd3d8c-03be-4bd4-e624-26a6d391f2fd"
      }
    },
    {
      "cell_type": "markdown",
      "source": [
        "**Observations:**"
      ],
      "metadata": {
        "id": "MAfY10f--aPI"
      }
    },
    {
      "cell_type": "markdown",
      "source": [
        "* This tells us the vote count of each quality score in descending order.\n",
        "* “quality” has most values concentrated in the categories 5, 6 and 7.\n",
        "* Only a few observations made for the categories 3 & 8."
      ],
      "metadata": {
        "id": "jf6yAfkF-d7s"
      }
    },
    {
      "cell_type": "markdown",
      "source": [
        "**3. Renaming Columns**"
      ],
      "metadata": {
        "id": "WNUzVvu--mHw"
      }
    },
    {
      "cell_type": "markdown",
      "source": [
        "* rename() is used to rename the columns\n",
        "* parameters .rename(columns = {'old_name':'new_name'},inplace= True)\n",
        "* inplace =True makes change in the dataframe itself."
      ],
      "metadata": {
        "id": "bgWc8uOa-n94"
      }
    },
    {
      "cell_type": "code",
      "execution_count": null,
      "source": [
        "red_wine_data.rename(columns= {'fixed acidity':'fixed_acidity', 'volatile acidity':'volatile_acidity', 'citric acid':'citric_acid', 'residual sugar':'residual_sugar',\r\n",
        "      'free sulfur dioxide':'free_sulfur_dioxide', 'total sulfur dioxide':'total_sulfur_dioxide',})"
      ],
      "outputs": [],
      "metadata": {
        "id": "s3RJw9Mj_cGq",
        "colab": {
          "base_uri": "https://localhost:8080/",
          "height": 439
        },
        "outputId": "532dc199-0838-4e3f-aea5-2e92d733e4d1"
      }
    },
    {
      "cell_type": "markdown",
      "source": [
        "**Checking for Missing Values**"
      ],
      "metadata": {
        "id": "Vt7NyIgqAXe4"
      }
    },
    {
      "cell_type": "markdown",
      "source": [
        "Handling missing values is an essential part of the data cleaning and preparation process because almost all data in real life comes with some missing values."
      ],
      "metadata": {
        "id": "09o7YcdqAnv0"
      }
    },
    {
      "cell_type": "markdown",
      "source": [
        "Pandas provides isnull(), isna() functions to detect missing values. Both of them do the same thing.\n",
        "\n",
        "* df.isna() returns the dataframe with boolean values indicating missing values.\n",
        "* You can also choose to use notna() which is just the opposite of isna().\n",
        "* df.isna().any() returns a boolean value for each column. If there is at least one missing value in that column, the result is True.\n",
        "* df.isna().sum() returns the number of missing values in each column.\n",
        " "
      ],
      "metadata": {
        "id": "HJFdxdLPCllJ"
      }
    },
    {
      "cell_type": "markdown",
      "source": [
        "**1. isna()**"
      ],
      "metadata": {
        "id": "Do7PBVYuC0E4"
      }
    },
    {
      "cell_type": "code",
      "execution_count": null,
      "source": [
        "red_wine_data.isna()"
      ],
      "outputs": [],
      "metadata": {
        "id": "CAgqz-RaC2E7",
        "colab": {
          "base_uri": "https://localhost:8080/",
          "height": 436
        },
        "outputId": "b1be87e1-e299-427b-eb90-68bd4c399d1b"
      }
    },
    {
      "cell_type": "code",
      "execution_count": null,
      "source": [
        "red_wine_data.isna().sum()"
      ],
      "outputs": [],
      "metadata": {
        "id": "pL8uiStMDBtj",
        "colab": {
          "base_uri": "https://localhost:8080/",
          "height": 238
        },
        "outputId": "a6b512a5-ba55-4018-ad32-1abb9f899942"
      }
    },
    {
      "cell_type": "markdown",
      "source": [
        "**Observation:**\n",
        "There is no missing value in any column"
      ],
      "metadata": {
        "id": "ArnikqQ6DHfZ"
      }
    },
    {
      "cell_type": "markdown",
      "source": [
        "**2. info()**"
      ],
      "metadata": {
        "id": "6vW5k6OIDMz1"
      }
    },
    {
      "cell_type": "markdown",
      "source": [
        "df.info returns information about the data frame including the data types of each column, number of null values in each column and memory usage of the entire data."
      ],
      "metadata": {
        "id": "D-ab5Q9JDPKs"
      }
    },
    {
      "cell_type": "code",
      "execution_count": null,
      "source": [
        "red_wine_data.info()"
      ],
      "outputs": [],
      "metadata": {
        "id": "DWyZK0Q5DSC1",
        "colab": {
          "base_uri": "https://localhost:8080/",
          "height": 340
        },
        "outputId": "78df97d4-be86-41fb-f0f0-c2130d659737"
      }
    },
    {
      "cell_type": "markdown",
      "source": [
        "**Observations:**"
      ],
      "metadata": {
        "id": "6k9BrBr5DZGO"
      }
    },
    {
      "cell_type": "markdown",
      "source": [
        "* The data has only float and integer values.\n",
        "* There are no missing values"
      ],
      "metadata": {
        "id": "j7gLhNhMDaoT"
      }
    },
    {
      "cell_type": "markdown",
      "source": [
        "**Checking for Duplicates**"
      ],
      "metadata": {
        "id": "U0Vrc_ixD7br"
      }
    },
    {
      "cell_type": "markdown",
      "source": [
        "Duplicates might or might not affect the quality of data. Before deciding if they should be removed, it is essential to understand why they might have occurred in the first place."
      ],
      "metadata": {
        "id": "bK3IkGEYD-ID"
      }
    },
    {
      "cell_type": "markdown",
      "source": [
        "Duplicates can be checked using the duplicated() method."
      ],
      "metadata": {
        "id": "roi7gWm3EBH9"
      }
    },
    {
      "cell_type": "code",
      "execution_count": null,
      "source": [
        "duplicate = red_wine_data[red_wine_data.duplicated()]\r\n",
        "duplicate.shape\r\n",
        "\r\n"
      ],
      "outputs": [],
      "metadata": {
        "id": "dom4XNSjEESb",
        "colab": {
          "base_uri": "https://localhost:8080/",
          "height": 34
        },
        "outputId": "360f7ac4-7cfc-410a-be7f-292874a0ae07"
      }
    },
    {
      "cell_type": "markdown",
      "source": [
        "**Observations:**"
      ],
      "metadata": {
        "id": "xh8OouloEax8"
      }
    },
    {
      "cell_type": "markdown",
      "source": [
        "There are 240 duplicates. The quality ratings for the same/similar wine were given by different wine tasters so there is a possibility of similar reviews. We can thus keep these duplicates."
      ],
      "metadata": {
        "id": "OgBlEo2jEhOD"
      }
    },
    {
      "cell_type": "markdown",
      "source": [
        "**Data Visualization Or Graphical Representation**"
      ],
      "metadata": {
        "id": "pC-unBVCbuOS"
      }
    },
    {
      "cell_type": "code",
      "execution_count": null,
      "source": [
        "import matplotlib.pyplot as plt\r\n",
        "import seaborn as sns"
      ],
      "outputs": [],
      "metadata": {
        "id": "K4XVt1NDcE2p"
      }
    },
    {
      "cell_type": "markdown",
      "source": [
        "**Separating Input and Target Variables**"
      ],
      "metadata": {
        "id": "HYkMYCy0g7DC"
      }
    },
    {
      "cell_type": "code",
      "execution_count": null,
      "source": [
        "y = red_wine_data['quality']\r\n",
        "X = red_wine_data.drop(red_wine_data['quality'],inplace= True)\r\n"
      ],
      "outputs": [],
      "metadata": {
        "id": "MlOcaO4zg_OJ"
      }
    },
    {
      "cell_type": "markdown",
      "source": [
        "* X now contains all the features except Quality.\n",
        "* y contains Quality."
      ],
      "metadata": {
        "id": "ecV2ISQrhy9y"
      }
    },
    {
      "cell_type": "markdown",
      "source": [
        "**Histogram**"
      ],
      "metadata": {
        "id": "B4AUcbkziWfH"
      }
    },
    {
      "cell_type": "markdown",
      "source": [
        "Histograms use bars to visualize data as well. Many people may not even realize there is a difference between a histogram and a bar chart. They practically look the same from a distance."
      ],
      "metadata": {
        "id": "TZjI7jYxialQ"
      }
    },
    {
      "cell_type": "markdown",
      "source": [
        "The key is that a histogram looks solely at quantitative variables while a bar chart looks at categorical variables. That’s why the bars in a histogram are typically grouped together without spacing in between the bars.\n",
        "\n",
        "![charts-comparison.png](data:image/png;base64,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)"
      ],
      "metadata": {
        "id": "7gjghQJFieBY"
      }
    },
    {
      "cell_type": "markdown",
      "source": [
        "Let's plot a histogram now! On calling the hist( ) method on a DataFrame, you'll get histograms for all the Series.\n",
        "\n"
      ],
      "metadata": {
        "id": "wLocSyWkiyxT"
      }
    },
    {
      "cell_type": "code",
      "execution_count": null,
      "source": [
        "red_wine_data.hist(bins=10,figsize=(16,12))\r\n",
        "plt.show()"
      ],
      "outputs": [],
      "metadata": {
        "id": "BQrTMZXdi6JI",
        "colab": {
          "base_uri": "https://localhost:8080/",
          "height": 716
        },
        "outputId": "1b4e4450-6b87-4a91-fc9b-8282f4fecc66"
      }
    },
    {
      "cell_type": "markdown",
      "source": [
        "**Observations:**"
      ],
      "metadata": {
        "id": "ivgPcIk-jQjn"
      }
    },
    {
      "cell_type": "markdown",
      "source": [
        "* The distribution of the attribute “alcohol” seems to be positively skewed i.e the curve is shifted towards the left.\n",
        "* The attributes 'density' and 'pH' are quite normally distributed.\n",
        "* Now looking at the attribute quality, we can observe that the wines with average quality (i.e. quality rating 5 to 7) are more than wines with bad(1-4) or good(8-10) quality."
      ],
      "metadata": {
        "id": "uovDOBtdjVSj"
      }
    },
    {
      "cell_type": "markdown",
      "source": [
        "**Correlation Matrix with Heatmap**"
      ],
      "metadata": {
        "id": "SRE4lXk892MM"
      }
    },
    {
      "cell_type": "markdown",
      "source": [
        "**Correlation:**"
      ],
      "metadata": {
        "id": "X-Kq2-Mj94ha"
      }
    },
    {
      "cell_type": "markdown",
      "source": [
        "Correlation is a statistical measure. Data correlation is a way to understand the relationship between multiple values or features in your dataset."
      ],
      "metadata": {
        "id": "qYJkutW198L0"
      }
    },
    {
      "cell_type": "markdown",
      "source": [
        "Every single successful data science project revolves around finding accurate correlations between the input and target variables. However more than often, we oversee how crucial correlation analysis is. \n",
        "\n",
        "It is recommended to perform correlation analysis before and after data gathering and transformation phases of a data science project.\n",
        "\n",
        " There are three different types of correlations:"
      ],
      "metadata": {
        "id": "B77v93Zd9_Lz"
      }
    },
    {
      "cell_type": "markdown",
      "source": [
        "1. **Positive Correlation**: Two features (variables) can be positively correlated with each other. It means that when the value of one variable increases then the value of the other variable(s) also increases (also decreases when the other decreases).\n",
        "Eg. The more time you spend running on a treadmill, the more calories you will burn.\n",
        "2. **Negative Correlation**: Two features (variables) can be negatively correlated with each other. This occurs when the value of one variable increases and the value of another variable(s) decreases (inversely proportional).\n",
        "Eg. As the weather gets colder, air conditioning costs decrease.\n",
        "3. **No Correlation**: Two features might not have any relationship with each other. This happens when the value of a variable is changed then the value of the other variable is not impacted.\n",
        "Eg. There is no relationship between the amount of tea drunk and level of intelligence.\n",
        "Each of these correlation types exists in a spectrum represented by values from -1 to +1 where slight or high positive correlation features can be like 0.5 or 0.7.\n",
        "A very strong and perfect positive correlation is represented by a correlation score of 0.9 or 1.\n",
        "If there is a strong negative correlation, it will be represented by a value of -0.9 or -1. Values close to zero indicates no correlation.\n"
      ],
      "metadata": {
        "id": "PZAAjCI_-J10"
      }
    },
    {
      "cell_type": "markdown",
      "source": [
        "We can check how each feature is related to others using corr() function."
      ],
      "metadata": {
        "id": "p0L6pFTO-fHE"
      }
    },
    {
      "cell_type": "code",
      "execution_count": null,
      "source": [
        "red_wine_data.corr()"
      ],
      "outputs": [],
      "metadata": {
        "id": "JX7PP1lo-h4u",
        "colab": {
          "base_uri": "https://localhost:8080/",
          "height": 472
        },
        "outputId": "6a919468-6b37-4dc9-e875-70fa500932a0"
      }
    },
    {
      "cell_type": "markdown",
      "source": [
        "Creating a pictorial visualisation of the above correlation matrix using a heatmap helps in better understanding. We can do that using Seaborn's Heatmap function."
      ],
      "metadata": {
        "id": "ZxYEYDVP-wg0"
      }
    },
    {
      "cell_type": "code",
      "execution_count": null,
      "source": [
        "plt.figure(figsize=(16,12))\r\n",
        "sns.heatmap(red_wine_data.corr(),cmap='bwr',annot=True)"
      ],
      "outputs": [],
      "metadata": {
        "id": "J1lrXdbF-xg7",
        "colab": {
          "base_uri": "https://localhost:8080/",
          "height": 805
        },
        "outputId": "da9765e6-1554-4c98-92ab-9cfa56ee65f4"
      }
    },
    {
      "cell_type": "markdown",
      "source": [
        "**Observations:**"
      ],
      "metadata": {
        "id": "zonKDDCU_UJC"
      }
    },
    {
      "cell_type": "markdown",
      "source": [
        "* Alcohol has the highest positive correlation with wine quality, followed by the various other variables such as acidity, sulphates, density & chlorides.\n",
        "* There is a relatively high positive correlation between fixed_acidity and citric_acid, fixed_acidity and density.\n",
        "* There is a relatively high negative correlation between fixed_acidity and pH.\n",
        "* Density has a strong positive correlation with fixed_acidity, whereas it has a strong negative correlation with alcohol.\n",
        "* citric acid & volatile acidity have negative correlation.\n",
        "* free sulphur dioxide & total sulphur dioxide have positive correlation."
      ],
      "metadata": {
        "id": "8paZ2Avq_WKn"
      }
    },
    {
      "cell_type": "markdown",
      "source": [
        "**Pair Plot**"
      ],
      "metadata": {
        "id": "-Ropgb3s_pV5"
      }
    },
    {
      "cell_type": "markdown",
      "source": [
        "The pair plot builds on two basic figures, the histogram and the scatter plot. The histogram on the diagonal allows us to see the distribution of a single variable while the scatter plots on the upper and lower triangles show the relationship (or lack thereof) between two variables.\n",
        "\n",
        "It plots every numerical attribute against every other.\n",
        "\n",
        "pairplot function of seaborn helps to achieve this"
      ],
      "metadata": {
        "id": "X9clo29-_riB"
      }
    },
    {
      "cell_type": "markdown",
      "source": [
        "**Observation:**"
      ],
      "metadata": {
        "id": "svZPa4sq_6nt"
      }
    },
    {
      "cell_type": "markdown",
      "source": [
        "The correlation between fixed_acidity and citric_acid is 0.67 (you could find this value under the correlation matrix topic).\n",
        "\n",
        "\n",
        "Looking at scatterplot for this pair of variables, we can see the positive linear correlation between these two variables. We can observe the upward trend, and also the points are not too dispersed."
      ],
      "metadata": {
        "id": "_9nh-Z1a_9GU"
      }
    },
    {
      "cell_type": "markdown",
      "source": [
        "**Box Plot**"
      ],
      "metadata": {
        "id": "TlQ0h37eAKAj"
      }
    },
    {
      "cell_type": "markdown",
      "source": [
        "A box plot is a great way to get a visual sense of an entire range of data. It can tell you about your outliers and what their values are. It can also tell you if your data is symmetrical, how tightly your data is grouped, and if and how your data is skewed.\n",
        "\n",
        "Box plots divides data into its quartiles. The “box” shows a user the data set between the first and third quartiles.\n",
        "\n",
        "The median gets drawn somewhere inside the box and then you see the most extreme non-outliers to finish the plot. Those lines are known as the “whiskers”. If there are any outliers then those can be plotted as well.\n",
        "\n",
        "With box plots you can answer how diverse or uniform your data might be. You can identify what is normal and what is extreme. Box plots help give a shape to your data that is broad without sacrificing the ability to look at any piece and ask more questions.\n",
        "\n",
        "It displays the five-number summary of a set of data. The five-number summary is:\n",
        "1. minimum\n",
        "2. first quartile (Q1)\n",
        "3. median\n",
        "4. third quartile (Q3)\n",
        "5. maximum"
      ],
      "metadata": {
        "id": "0V2uLZPnAMT9"
      }
    },
    {
      "cell_type": "code",
      "execution_count": null,
      "source": [
        "sns.boxplot(y,red_wine_data['alcohol'],palette='GnBu_d')\r\n",
        "plt.title(\"Boxplot of quality and alcohol\")\r\n",
        "plt.show()"
      ],
      "outputs": [],
      "metadata": {
        "id": "WfgApRpGAcpu",
        "colab": {
          "base_uri": "https://localhost:8080/",
          "height": 295
        },
        "outputId": "26571987-0243-45d3-cc44-4fa63b6e5fa7"
      }
    },
    {
      "cell_type": "markdown",
      "source": [
        "**Observation:**"
      ],
      "metadata": {
        "id": "eMKjZDMVBVmx"
      }
    },
    {
      "cell_type": "markdown",
      "source": [
        "* The above plot shows the increase in the quality of wine with an increase in alcohol. The quality of the wine is directly related to the amount of alcohol in the wine. More the alcohol in the wine, the better will be the quality.\n",
        "* Also, the points lying outside the whiskers(the lines extending from the rectangular box) are the outliers."
      ],
      "metadata": {
        "id": "UE-0OKAmBXz3"
      }
    },
    {
      "cell_type": "code",
      "execution_count": null,
      "source": [
        "#Grouping the wine based on grade\r\n",
        "# Defining 'grade' of wine\r\n",
        "\r\n",
        "#Good wine\r\n",
        "red_wine_data['grade'] = 1 \r\n",
        "\r\n",
        "#Bad wine\r\n",
        "red_wine_data.grade[red_wine_data.quality < 6.5] = 0 \r\n",
        "\r\n",
        "#sns.set(style=\"whitegrid\")\r\n",
        "#p = sns.countplot(data=red_wine_data, x='grade', palette='muted')\r\n",
        "\r\n",
        "#set plotsize and colors\r\n",
        "\r\n",
        "plt.figure(figsize = (6,6))\r\n",
        "colors = ['lightcoral', 'rosybrown']\r\n",
        "\r\n",
        "labels = red_wine_data.grade.value_counts().index\r\n",
        "plt.pie(red_wine_data.grade.value_counts(), autopct='%1.1f%%',colors=colors)\r\n",
        "plt.legend(labels, loc=\"center\")\r\n",
        "plt.axis('equal')\r\n",
        "plt.title('White Wine Quality Distribution')\r\n",
        "plt.show()\r\n",
        "#Show mean quality of white wine and quality distribution\r\n",
        "\r\n",
        "print('The amount of good quality white wine is ',round(red_wine_data.grade.value_counts(normalize=True)[1]*100,1),'%.')\r\n",
        "print(\"mean white wine quality = \",red_wine_data[\"quality\"].mean())"
      ],
      "outputs": [],
      "metadata": {
        "id": "jav41HZ8GG6r",
        "colab": {
          "base_uri": "https://localhost:8080/",
          "height": 407
        },
        "outputId": "5f79e5f1-013c-4454-e83d-87a89f209969"
      }
    },
    {
      "cell_type": "code",
      "execution_count": null,
      "source": [
        "# plot to see how pH is varying in the grade of white wine\r\n",
        "\r\n",
        "plt.figure(figsize=(6,6))\r\n",
        "ax = sns.lineplot(x=\"pH\", y=\"quality\", hue=\"grade\", data=red_wine_data,markers=True)"
      ],
      "outputs": [],
      "metadata": {
        "id": "2G0eYl_OGON6",
        "colab": {
          "base_uri": "https://localhost:8080/",
          "height": 388
        },
        "outputId": "79dec5ce-6e9f-438f-9051-7ec506d91cd2"
      }
    },
    {
      "cell_type": "code",
      "execution_count": null,
      "source": [
        "red_wine_data['grade'].value_counts() #prints counts of good and bad white wine"
      ],
      "outputs": [],
      "metadata": {
        "id": "4KOZHD7iGerG",
        "colab": {
          "base_uri": "https://localhost:8080/",
          "height": 68
        },
        "outputId": "69011f58-3b3e-45c5-e514-51bb844e3e32"
      }
    },
    {
      "cell_type": "markdown",
      "source": [
        "Now, **Predicting White Wine Quality** using:\n",
        "\n",
        "1. Random Forest Classifier\n",
        "2. Gaussian Naive Bayes Classifier\n",
        "3. Decision Tree Classifier\n",
        "4. KNeighbors Classifier\n",
        "5. SVM Classifier"
      ],
      "metadata": {
        "id": "W_IlKLx3GuHD"
      }
    },
    {
      "cell_type": "code",
      "execution_count": null,
      "source": [
        "#Checking once more for column names\r\n",
        "red_wine_data.columns"
      ],
      "outputs": [],
      "metadata": {
        "id": "C39zy-JNG3nK",
        "colab": {
          "base_uri": "https://localhost:8080/",
          "height": 85
        },
        "outputId": "65f19ad9-7dc2-4a1f-9067-54afa8e9f444"
      }
    },
    {
      "cell_type": "code",
      "execution_count": null,
      "source": [
        "#Defining X and y\r\n",
        "X = red_wine_data.drop(['quality'], axis=1)\r\n",
        "y = red_wine_data['quality']"
      ],
      "outputs": [],
      "metadata": {
        "id": "_fX2ncZlHBbS"
      }
    },
    {
      "cell_type": "code",
      "execution_count": null,
      "source": [
        "# creating dataset split for prediction\r\n",
        "from sklearn.model_selection import train_test_split\r\n",
        "X_train, X_test , y_train , y_test = train_test_split(X,y,test_size=0.2,random_state=42) # 80-20 split\r\n",
        "\r\n",
        "# Checking split \r\n",
        "print('X_train:', X_train.shape)\r\n",
        "print('y_train:', y_train.shape)\r\n",
        "print('X_test:', X_test.shape)\r\n",
        "print('y_test:', y_test.shape)"
      ],
      "outputs": [],
      "metadata": {
        "id": "HVhoIO0UHFP6",
        "colab": {
          "base_uri": "https://localhost:8080/",
          "height": 85
        },
        "outputId": "8b6cb219-c7f3-4e17-b007-5b471294f015"
      }
    },
    {
      "cell_type": "code",
      "execution_count": null,
      "source": [
        "# 1. Using Random Forest Classifier\r\n",
        "\r\n",
        "# Load random forest classifier \r\n",
        "from sklearn.ensemble import RandomForestClassifier\r\n",
        "\r\n",
        "# Create a random forest Classifier\r\n",
        "clf = RandomForestClassifier(n_jobs=2, random_state=0)\r\n",
        "\r\n",
        "# Train the Classifier/fitting the model\r\n",
        "clf.fit(X_train, y_train)\r\n",
        "\r\n",
        "# predict the response\r\n",
        "y_pred = clf.predict(X_test)\r\n",
        "acc_rf = round(clf.score(X_test,y_test) * 100, 2)\r\n",
        "#Import scikit-learn metrics module for accuracy calculation\r\n",
        "from sklearn import metrics\r\n",
        "\r\n",
        "# evaluate accuracy\r\n",
        "print(\"Random Forest Classifier Accuracy:\",metrics.accuracy_score(y_test, y_pred)*100,\"%\")"
      ],
      "outputs": [],
      "metadata": {
        "id": "84XA7i6nHIWh",
        "colab": {
          "base_uri": "https://localhost:8080/",
          "height": 34
        },
        "outputId": "64394b9e-2665-4192-8c26-10ef09d5f63c"
      }
    },
    {
      "cell_type": "code",
      "execution_count": null,
      "source": [
        "#2. Gaussian Naive Bayes Classifier\r\n",
        "\r\n",
        "#Import Gaussian Naive Bayes model\r\n",
        "from sklearn.naive_bayes import GaussianNB\r\n",
        "\r\n",
        "#Create a Gaussian Classifier\r\n",
        "gnb = GaussianNB()\r\n",
        "\r\n",
        "# Train the Classifier/fitting the model\r\n",
        "gnb.fit(X_train, y_train)\r\n",
        "\r\n",
        "# predict the response\r\n",
        "y_pred = gnb.predict(X_test)\r\n",
        "acc_gnb = round(gnb.score(X_test,y_test) * 100, 2)\r\n",
        "\r\n",
        "#Import scikit-learn metrics module for accuracy calculation\r\n",
        "from sklearn import metrics\r\n",
        "\r\n",
        "# evaluate accuracy\r\n",
        "print(\"Naive Bayes Accuracy:\",metrics.accuracy_score(y_test, y_pred)*100,\"%\")"
      ],
      "outputs": [],
      "metadata": {
        "id": "nKczqh73HS7B",
        "colab": {
          "base_uri": "https://localhost:8080/",
          "height": 34
        },
        "outputId": "a4d8dd48-d5fe-42a4-e228-4503befed1a9"
      }
    },
    {
      "cell_type": "code",
      "execution_count": null,
      "source": [
        "#import Decision Tree Classifier\r\n",
        "from sklearn.tree import DecisionTreeClassifier\r\n",
        "from sklearn import tree\r\n",
        "\r\n",
        "# Create Decision Tree classifer object\r\n",
        "clf = DecisionTreeClassifier(max_depth=10)\r\n",
        "\r\n",
        "# Train the Classifier/fitting the model\r\n",
        "clf = clf.fit(X_train,y_train)\r\n",
        "\r\n",
        "# predict the response\r\n",
        "y_pred = clf.predict(X_test)\r\n",
        "acc_dt = round(clf.score(X_test,y_test) * 100, 2)\r\n",
        "#Import scikit-learn metrics module for accuracy calculation\r\n",
        "from sklearn.metrics import accuracy_score \r\n",
        "\r\n",
        "# evaluate accuracy\r\n",
        "print (\"Decision Tree Accuracy:\", metrics.accuracy_score(y_test, y_pred)*100,\"%\")"
      ],
      "outputs": [],
      "metadata": {
        "id": "S_yquiB5HaWZ",
        "colab": {
          "base_uri": "https://localhost:8080/",
          "height": 34
        },
        "outputId": "2838ab85-d88a-4ce5-da46-4a766f5b800e"
      }
    },
    {
      "cell_type": "code",
      "execution_count": null,
      "source": [
        "#kNN\r\n",
        "import sys, os\r\n",
        "\r\n",
        "# Import kNN classifier\r\n",
        "from sklearn.neighbors import KNeighborsClassifier\r\n",
        "\r\n",
        "# instantiate learning model (k = 3)\r\n",
        "knn = KNeighborsClassifier(n_neighbors=3)\r\n",
        "\r\n",
        "# Train the Classifier/fitting the model\r\n",
        "knn.fit(X_train, y_train)\r\n",
        "\r\n",
        "# predict the response\r\n",
        "y_pred = knn.predict(X_test)\r\n",
        "acc_knn = round(knn.score(X_test,y_test) * 100, 2)\r\n",
        "#Import scikit-learn metrics module for accuracy calculation\r\n",
        "from sklearn import metrics\r\n",
        "\r\n",
        "# evaluate accuracy\r\n",
        "print(\"kNN Accuracy:\",metrics.accuracy_score(y_test, y_pred)*100,\"%\")"
      ],
      "outputs": [],
      "metadata": {
        "id": "JlVYOfiIHepF",
        "colab": {
          "base_uri": "https://localhost:8080/",
          "height": 34
        },
        "outputId": "7ce73bc1-a20a-47cd-ce84-093f2b310f3d"
      }
    },
    {
      "cell_type": "code",
      "execution_count": null,
      "source": [
        "#Support Vector Machines trial\r\n",
        "import sys, os\r\n",
        "\r\n",
        "#Import svm model\r\n",
        "from sklearn import svm\r\n",
        "from sklearn.svm import SVC\r\n",
        "\r\n",
        "#Create a svm Classifier\r\n",
        "clf = SVC(C=1, kernel='rbf')\r\n",
        "\r\n",
        "# Train the Classifier/fitting the model\r\n",
        "clf.fit(X_train, y_train)\r\n",
        "\r\n",
        "# predict the response\r\n",
        "y_pred = clf.predict(X_test)\r\n",
        "acc_svm = round(clf.score(X_test,y_test) * 100, 2)\r\n",
        "\r\n",
        "# evaluate accuracy\r\n",
        "print(\"SVM Accuracy:\",metrics.accuracy_score(y_test, y_pred)*100,\"%\")"
      ],
      "outputs": [],
      "metadata": {
        "id": "x1YUQ055HkMj",
        "colab": {
          "base_uri": "https://localhost:8080/",
          "height": 34
        },
        "outputId": "2a814499-7a3a-4212-f87c-52ce539928aa"
      }
    },
    {
      "cell_type": "code",
      "execution_count": null,
      "source": [
        "# visualizing accuracies for all ML Algorithms using Matplotlib\r\n",
        "predictors_group = ('Random Forest', 'GaussianNB', 'DecisionTree','kNN','SVM')\r\n",
        "x_pos = np.arange(len(predictors_group))\r\n",
        "accuracies1 = [acc_rf, acc_gnb, acc_dt,acc_svm,acc_knn]\r\n",
        "    \r\n",
        "plt.bar(x_pos, accuracies1, align='center', alpha=0.5, color='purple')\r\n",
        "plt.xticks(x_pos, predictors_group, rotation='vertical')\r\n",
        "plt.ylabel('Accuracy (%)')\r\n",
        "plt.title('Classifier Accuracies')\r\n",
        "plt.show()"
      ],
      "outputs": [],
      "metadata": {
        "id": "GZXt_sZ4HotR",
        "colab": {
          "base_uri": "https://localhost:8080/",
          "height": 346
        },
        "outputId": "3797c138-20bf-4472-bae7-41d221e56a07"
      }
    },
    {
      "cell_type": "code",
      "execution_count": null,
      "source": [
        "#printing top three accuracies\r\n",
        "\r\n",
        "print('Decision Tree:', acc_dt,'%')\r\n",
        "print('Random Forest:', acc_rf,'%')\r\n",
        "print('GaussianNB:',acc_gnb,'%')"
      ],
      "outputs": [],
      "metadata": {
        "id": "ETbVCYFaHpeN",
        "colab": {
          "base_uri": "https://localhost:8080/",
          "height": 68
        },
        "outputId": "a6e92e30-f2d6-4f2f-c87a-c9e02fd9e255"
      }
    },
    {
      "cell_type": "markdown",
      "source": [
        "Reducing overfitting using Cross Validation for top three Algorithms -> RF, DT and GNB"
      ],
      "metadata": {
        "id": "0yqxThWWHtYT"
      }
    },
    {
      "cell_type": "code",
      "execution_count": null,
      "source": [
        "# importing the model for prediction\r\n",
        "\r\n",
        "from sklearn.tree import DecisionTreeClassifier\r\n",
        "from sklearn.ensemble import RandomForestClassifier\r\n",
        "from sklearn.naive_bayes import GaussianNB\r\n",
        "\r\n",
        "# creating list of tuple wth model and its name  \r\n",
        "models = []\r\n",
        "models.append(('DT',DecisionTreeClassifier()))\r\n",
        "models.append(('RF',RandomForestClassifier()))\r\n",
        "models.append(('GNB',GaussianNB()))"
      ],
      "outputs": [],
      "metadata": {
        "id": "HDXJ0h0oHwOe"
      }
    },
    {
      "cell_type": "code",
      "execution_count": null,
      "source": [
        "# Import Cross Validation \r\n",
        "from sklearn.model_selection import cross_val_score\r\n",
        "\r\n",
        "# simulate splitting a dataset of 1000 observations into 5 folds\r\n",
        "from sklearn.model_selection import KFold\r\n",
        "kf = KFold(n_splits=5, random_state=42, shuffle=True)\r\n",
        "kf.get_n_splits(X)\r\n",
        "# print(kf)\r\n",
        "\r\n",
        "acc = []   # All Algorithm/model accuracies\r\n",
        "names = []    # All model name\r\n",
        "\r\n",
        "for name, model in models:\r\n",
        "    \r\n",
        "    acc_of_model = cross_val_score(model, X_train, y_train, cv=kf, scoring='accuracy') # kFolds =5 without shuffling\r\n",
        "    \r\n",
        "    acc.append(acc_of_model) # appending Accuray of different model to acc List\r\n",
        "    \r\n",
        "    names.append(name)# appending name of models\r\n",
        "    Acc =name,round(acc_of_model.mean()*100,2) # printing Output \r\n",
        "    print(Acc)"
      ],
      "outputs": [],
      "metadata": {
        "id": "J5mZQs2vH4jK",
        "colab": {
          "base_uri": "https://localhost:8080/",
          "height": 68
        },
        "outputId": "2c847475-352b-407b-df09-dd488e84e05e"
      }
    },
    {
      "cell_type": "code",
      "execution_count": null,
      "source": [
        "# Plotting all accuracies together for comparison\r\n",
        "\r\n",
        "labels = ['Decision Tree', 'Random Forest','Gaussian NB']\r\n",
        "\r\n",
        "NoCV =[69.49 ,77.65,66.43] # accuracy before Cross Validation\r\n",
        "CV=[69.24, 75.14, 65.8] # accuracy after Cross Validation\r\n",
        "\r\n",
        "x = np.arange(len(labels))  # the label locations\r\n",
        "width = 0.25  # the width of the bars\r\n",
        "\r\n",
        "f, ax = plt.subplots(figsize=(8,6)) \r\n",
        "p1 = ax.bar(x - width/2, CV, width, label='After Cross Validation', color='purple')\r\n",
        "p2 = ax.bar(x + width/2, NoCV, width, label='Before Cross Validation', color='m')\r\n",
        "\r\n",
        "# Add some text for labels and title \r\n",
        "ax.set_ylabel('Accuracies')\r\n",
        "ax.set_title('Accuracy comparison')\r\n",
        "ax.set_xticks(x)\r\n",
        "plt.xticks()\r\n",
        "ax.set_xticklabels(labels)\r\n",
        "ax.legend(loc='upper right')\r\n",
        "plt.show()"
      ],
      "outputs": [],
      "metadata": {
        "id": "2WvAQUfbH7-s",
        "colab": {
          "base_uri": "https://localhost:8080/",
          "height": 390
        },
        "outputId": "86a8cf2b-a540-44e8-ba19-4d0c052319ff"
      }
    },
    {
      "cell_type": "markdown",
      "source": [
        "On comparison, the accuracies do not seem to drastically change, but do seem a bit reduced after cross validation which means that K-fold cross validation is giving a better approximation for those accuracies. From the bar plot, Random Forest appears to be providing the better accuracies followed by Decision Tree in predicting the white wine quality. Using this outcome, Random forest and Decision Tree can be applied to the dataset."
      ],
      "metadata": {
        "id": "AJOhFoQHH_gb"
      }
    },
    {
      "cell_type": "code",
      "execution_count": null,
      "source": [
        "filename = 'Wine_EDA.pkl'\r\n",
        "pickle.dump(clf,open(filename, 'wb'))"
      ],
      "outputs": [],
      "metadata": {}
    },
    {
      "cell_type": "code",
      "execution_count": null,
      "source": [
        "loaded_model = pickle.load(open(filename,'rb'))\r\n",
        "loaded_model.predict(X_test)"
      ],
      "outputs": [],
      "metadata": {}
    }
  ]
}